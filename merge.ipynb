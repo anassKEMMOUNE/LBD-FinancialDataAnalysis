{
 "cells": [
  {
   "cell_type": "markdown",
   "metadata": {},
   "source": [
    "## Imports"
   ]
  },
  {
   "cell_type": "code",
   "execution_count": 1,
   "metadata": {},
   "outputs": [],
   "source": [
    "import pandas as pd\n",
    "import pdcast as pdc   # Firstly you should run 'pip install pandas-downcast'\n",
    "\n"
   ]
  },
  {
   "cell_type": "markdown",
   "metadata": {},
   "source": [
    "## Helper Functions"
   ]
  },
  {
   "cell_type": "code",
   "execution_count": 2,
   "metadata": {},
   "outputs": [],
   "source": [
    "\n",
    "def df_optimize(df) :\n",
    "        \"\"\"Function to down cast pandas entries types into smaller versions in order to optimize space in the used dataframes\n",
    "    returns the resulting dataframe\n",
    "    \"\"\"\n",
    "        \n",
    "        df = pdc.downcast(df)\n",
    "        return df \n",
    "\n",
    "def df_optimize_path(df_path :str) :\n",
    "\n",
    "    \"\"\"Function to down cast pandas entries types into smaller versions in order to optimize space in the used dataframes\n",
    "    returns the resulting dataframe\n",
    "    \"\"\"\n",
    " \n",
    "    df = pd.read_csv(df_path)\n",
    "    a =  df.memory_usage().sum()\n",
    "    df = pdc.downcast(df)\n",
    "    b = df.memory_usage().sum()\n",
    "    print(\"Memory saved by : \" ,((1-b/a) * 100),\"%\")\n",
    "    \n",
    "    return df\n",
    "\n",
    "def is_unique_key(df : pd.DataFrame ,columnName : str) :\n",
    "\n",
    "    \"\"\"Function to check if column is a primary key in the given dataframe    \n",
    "    returns true if the entry is primary key, false otherwise\n",
    "    \"\"\"\n",
    "\n",
    "    x = df.shape[0]\n",
    "    l = df[columnName].drop_duplicates().shape[0]\n",
    "\n",
    "    return x == l  \n",
    "\n",
    "def df_aggreg(df ,on ,aggreg_dict) : \n",
    "     \"\"\"Function to do an aggregation on Dataframe columns on a specific function given in the aggreg_dict\"\"\"\n",
    "     df = df.groupby(on).agg(aggreg_dict).reset_index()\n",
    "     df.columns = [f'{col[0]}_{col[1].lower()}' if isinstance(col, tuple) else col.lower() for col in df.columns]\n",
    "     df.rename(columns = {\"sk_id_prev_\": \"sk_id_prev\", \"sk_id_curr_first\" : \"sk_id_curr\",\"sk_id_curr_\" : \"sk_id_curr\",\"sk_id_bureau_\":\"sk_id_bureau\"},inplace=True)\n",
    "     return df\n",
    "     \n",
    "\n",
    "def df_aggreg2(df : pd.DataFrame ,df_rename) : \n",
    "    \n",
    "    #group by id and perform an aggregation function to have unique ids\n",
    "    df_count = df[['sk_id_curr', 'sk_id_prev']].groupby('sk_id_curr').count()\n",
    "\n",
    "\n",
    "    df['sk_id_prev'] = df['sk_id_curr'].map(df_count['sk_id_prev'])\n",
    "\n",
    "    df_avg = df.groupby('sk_id_curr').mean()\n",
    "\n",
    "    #Renaming columns\n",
    "\n",
    "    df_avg.columns = [df_rename +'_' + col for col in df_avg.columns]\n",
    "    return df_avg\n",
    "\n",
    "def previous_credits_aggreg(df : pd.DataFrame) :\n",
    "\n",
    "    #group by id and perform an aggregation function to have unique ids\n",
    "    df_avg = df.groupby('sk_id_curr').mean()\n",
    "    df_avg['p_count'] = df[['sk_id_bureau','sk_id_curr']].groupby('sk_id_curr').count()['sk_id_bureau']\n",
    "    #Rename columns\n",
    "    df_avg.columns = ['previous_credits_' + col for col in df_avg.columns]\n",
    "    return df_avg   \n",
    "\n",
    "def credit_bureau_balance_aggreg(df : pd.DataFrame) :\n",
    "\n",
    "    #group by id and perform an aggregation function to have unique ids\n",
    "    df_count = df['sk_id_bureau'].groupby('sk_id_bureau').count()\n",
    "\n",
    "\n",
    "    df['sk_id_bureau'] = df['sk_id_bureau'].map(df_count['sk_id_bureau'])\n",
    "\n",
    "    df_avg = df.groupby('sk_id_bureau').mean()\n",
    "\n",
    "    #Renaming columns\n",
    "\n",
    "    df_avg.columns = ['credit_bureau_balance_' + col for col in df_avg.columns]\n",
    "    return df_avg\n",
    "      \n",
    "def last(x) : \n",
    "    return x.iloc[-1] "
   ]
  },
  {
   "cell_type": "markdown",
   "metadata": {},
   "source": [
    "## Loading and DownCasting of Dataset"
   ]
  },
  {
   "cell_type": "code",
   "execution_count": 3,
   "metadata": {},
   "outputs": [
    {
     "name": "stderr",
     "output_type": "stream",
     "text": [
      "c:\\Users\\Student\\AppData\\Local\\Programs\\Python\\Python311\\Lib\\site-packages\\pandas\\core\\dtypes\\astype.py:134: RuntimeWarning: overflow encountered in cast\n",
      "  return arr.astype(dtype, copy=True)\n",
      "c:\\Users\\Student\\AppData\\Local\\Programs\\Python\\Python311\\Lib\\site-packages\\pandas\\core\\dtypes\\astype.py:134: RuntimeWarning: overflow encountered in cast\n",
      "  return arr.astype(dtype, copy=True)\n",
      "c:\\Users\\Student\\AppData\\Local\\Programs\\Python\\Python311\\Lib\\site-packages\\pandas\\core\\dtypes\\astype.py:134: RuntimeWarning: overflow encountered in cast\n",
      "  return arr.astype(dtype, copy=True)\n",
      "c:\\Users\\Student\\AppData\\Local\\Programs\\Python\\Python311\\Lib\\site-packages\\pandas\\core\\dtypes\\astype.py:134: RuntimeWarning: overflow encountered in cast\n",
      "  return arr.astype(dtype, copy=True)\n"
     ]
    },
    {
     "name": "stdout",
     "output_type": "stream",
     "text": [
      "Memory saved by :  68.95278329052113 %\n"
     ]
    },
    {
     "name": "stderr",
     "output_type": "stream",
     "text": [
      "c:\\Users\\Student\\AppData\\Local\\Programs\\Python\\Python311\\Lib\\site-packages\\pandas\\core\\dtypes\\astype.py:134: RuntimeWarning: overflow encountered in cast\n",
      "  return arr.astype(dtype, copy=True)\n",
      "c:\\Users\\Student\\AppData\\Local\\Programs\\Python\\Python311\\Lib\\site-packages\\pandas\\core\\dtypes\\astype.py:134: RuntimeWarning: overflow encountered in cast\n",
      "  return arr.astype(dtype, copy=True)\n",
      "c:\\Users\\Student\\AppData\\Local\\Programs\\Python\\Python311\\Lib\\site-packages\\pandas\\core\\dtypes\\astype.py:134: RuntimeWarning: overflow encountered in cast\n",
      "  return arr.astype(dtype, copy=True)\n",
      "c:\\Users\\Student\\AppData\\Local\\Programs\\Python\\Python311\\Lib\\site-packages\\pandas\\core\\dtypes\\astype.py:134: RuntimeWarning: overflow encountered in cast\n",
      "  return arr.astype(dtype, copy=True)\n",
      "c:\\Users\\Student\\AppData\\Local\\Programs\\Python\\Python311\\Lib\\site-packages\\pandas\\core\\dtypes\\astype.py:134: RuntimeWarning: overflow encountered in cast\n",
      "  return arr.astype(dtype, copy=True)\n",
      "c:\\Users\\Student\\AppData\\Local\\Programs\\Python\\Python311\\Lib\\site-packages\\pandas\\core\\dtypes\\astype.py:134: RuntimeWarning: overflow encountered in cast\n",
      "  return arr.astype(dtype, copy=True)\n"
     ]
    },
    {
     "name": "stdout",
     "output_type": "stream",
     "text": [
      "Memory saved by :  60.29361918216489 %\n",
      "Memory saved by :  74.99992933437443 %\n",
      "Memory saved by :  71.87492706070144 %\n"
     ]
    },
    {
     "name": "stderr",
     "output_type": "stream",
     "text": [
      "c:\\Users\\Student\\AppData\\Local\\Programs\\Python\\Python311\\Lib\\site-packages\\pandas\\core\\dtypes\\astype.py:134: RuntimeWarning: overflow encountered in cast\n",
      "  return arr.astype(dtype, copy=True)\n",
      "c:\\Users\\Student\\AppData\\Local\\Programs\\Python\\Python311\\Lib\\site-packages\\pandas\\core\\dtypes\\astype.py:134: RuntimeWarning: overflow encountered in cast\n",
      "  return arr.astype(dtype, copy=True)\n",
      "c:\\Users\\Student\\AppData\\Local\\Programs\\Python\\Python311\\Lib\\site-packages\\pandas\\core\\dtypes\\astype.py:134: RuntimeWarning: overflow encountered in cast\n",
      "  return arr.astype(dtype, copy=True)\n",
      "c:\\Users\\Student\\AppData\\Local\\Programs\\Python\\Python311\\Lib\\site-packages\\pandas\\core\\dtypes\\astype.py:134: RuntimeWarning: overflow encountered in cast\n",
      "  return arr.astype(dtype, copy=True)\n",
      "c:\\Users\\Student\\AppData\\Local\\Programs\\Python\\Python311\\Lib\\site-packages\\pandas\\core\\dtypes\\astype.py:134: RuntimeWarning: overflow encountered in cast\n",
      "  return arr.astype(dtype, copy=True)\n",
      "c:\\Users\\Student\\AppData\\Local\\Programs\\Python\\Python311\\Lib\\site-packages\\pandas\\core\\dtypes\\astype.py:134: RuntimeWarning: overflow encountered in cast\n",
      "  return arr.astype(dtype, copy=True)\n",
      "c:\\Users\\Student\\AppData\\Local\\Programs\\Python\\Python311\\Lib\\site-packages\\pandas\\core\\dtypes\\astype.py:134: RuntimeWarning: overflow encountered in cast\n",
      "  return arr.astype(dtype, copy=True)\n",
      "c:\\Users\\Student\\AppData\\Local\\Programs\\Python\\Python311\\Lib\\site-packages\\pandas\\core\\dtypes\\astype.py:134: RuntimeWarning: overflow encountered in cast\n",
      "  return arr.astype(dtype, copy=True)\n",
      "c:\\Users\\Student\\AppData\\Local\\Programs\\Python\\Python311\\Lib\\site-packages\\pandas\\core\\dtypes\\astype.py:134: RuntimeWarning: overflow encountered in cast\n",
      "  return arr.astype(dtype, copy=True)\n",
      "c:\\Users\\Student\\AppData\\Local\\Programs\\Python\\Python311\\Lib\\site-packages\\pandas\\core\\dtypes\\astype.py:134: RuntimeWarning: overflow encountered in cast\n",
      "  return arr.astype(dtype, copy=True)\n",
      "c:\\Users\\Student\\AppData\\Local\\Programs\\Python\\Python311\\Lib\\site-packages\\pandas\\core\\dtypes\\astype.py:134: RuntimeWarning: overflow encountered in cast\n",
      "  return arr.astype(dtype, copy=True)\n"
     ]
    },
    {
     "name": "stdout",
     "output_type": "stream",
     "text": [
      "Memory saved by :  61.412981625109396 %\n"
     ]
    },
    {
     "name": "stderr",
     "output_type": "stream",
     "text": [
      "c:\\Users\\Student\\AppData\\Local\\Programs\\Python\\Python311\\Lib\\site-packages\\pandas\\core\\dtypes\\astype.py:134: RuntimeWarning: overflow encountered in cast\n",
      "  return arr.astype(dtype, copy=True)\n",
      "c:\\Users\\Student\\AppData\\Local\\Programs\\Python\\Python311\\Lib\\site-packages\\pandas\\core\\dtypes\\astype.py:134: RuntimeWarning: overflow encountered in cast\n",
      "  return arr.astype(dtype, copy=True)\n",
      "c:\\Users\\Student\\AppData\\Local\\Programs\\Python\\Python311\\Lib\\site-packages\\pandas\\core\\dtypes\\astype.py:134: RuntimeWarning: overflow encountered in cast\n",
      "  return arr.astype(dtype, copy=True)\n",
      "c:\\Users\\Student\\AppData\\Local\\Programs\\Python\\Python311\\Lib\\site-packages\\pandas\\core\\dtypes\\astype.py:134: RuntimeWarning: overflow encountered in cast\n",
      "  return arr.astype(dtype, copy=True)\n",
      "c:\\Users\\Student\\AppData\\Local\\Programs\\Python\\Python311\\Lib\\site-packages\\pandas\\core\\dtypes\\astype.py:134: RuntimeWarning: overflow encountered in cast\n",
      "  return arr.astype(dtype, copy=True)\n"
     ]
    },
    {
     "name": "stdout",
     "output_type": "stream",
     "text": [
      "Memory saved by :  68.57983376450875 %\n"
     ]
    },
    {
     "name": "stderr",
     "output_type": "stream",
     "text": [
      "c:\\Users\\Student\\AppData\\Local\\Programs\\Python\\Python311\\Lib\\site-packages\\pandas\\core\\dtypes\\astype.py:134: RuntimeWarning: overflow encountered in cast\n",
      "  return arr.astype(dtype, copy=True)\n",
      "c:\\Users\\Student\\AppData\\Local\\Programs\\Python\\Python311\\Lib\\site-packages\\pandas\\core\\dtypes\\astype.py:134: RuntimeWarning: overflow encountered in cast\n",
      "  return arr.astype(dtype, copy=True)\n"
     ]
    },
    {
     "name": "stdout",
     "output_type": "stream",
     "text": [
      "Memory saved by :  62.499990525363394 %\n"
     ]
    }
   ],
   "source": [
    "loan_applications = df_optimize_path(\"Dataset/loan_applications_train.csv\")\n",
    "previous_credits = df_optimize_path(\"Dataset/previous_credits.csv\")\n",
    "credit_bureau_balance=df_optimize_path(\"Dataset/credit_bureau_balance.csv\")\n",
    "previous_pos_cash_loans=df_optimize_path(\"Dataset/previous_POS_cash_loans.csv\")\n",
    "previous_credit_cards=df_optimize_path(\"Dataset/previous_credit_cards.csv\")\n",
    "previous_loan_applications=df_optimize_path(\"Dataset/previous_loan_applications.csv\")\n",
    "repayment_history=df_optimize_path(\"Dataset/repayment_history.csv\")"
   ]
  },
  {
   "cell_type": "markdown",
   "metadata": {},
   "source": [
    "## Searching for unique ID's (Primary Keys)"
   ]
  },
  {
   "cell_type": "code",
   "execution_count": 4,
   "metadata": {},
   "outputs": [
    {
     "name": "stdout",
     "output_type": "stream",
     "text": [
      "True\n",
      "True\n",
      "True\n",
      "False\n",
      "False\n",
      "False\n",
      "False\n",
      "False\n"
     ]
    }
   ],
   "source": [
    "print(is_unique_key(loan_applications,\"sk_id_curr\"))  # True\n",
    "print(is_unique_key(previous_loan_applications,\"sk_id_prev\")) # True\n",
    "print(is_unique_key(previous_credits,\"sk_id_bureau\")) # True\n",
    "print(is_unique_key(previous_credit_cards,\"sk_id_curr\")) # False\n",
    "print(is_unique_key(previous_credit_cards,\"sk_id_prev\")) # False\n",
    "print(is_unique_key(credit_bureau_balance,\"sk_id_bureau\")) # False\n",
    "print(is_unique_key(previous_pos_cash_loans,\"sk_id_prev\")) # False\n",
    "print(is_unique_key(repayment_history,\"sk_id_curr\")) #False"
   ]
  },
  {
   "cell_type": "markdown",
   "metadata": {},
   "source": [
    "## Converting categorical variable into dummy variables."
   ]
  },
  {
   "cell_type": "code",
   "execution_count": 5,
   "metadata": {},
   "outputs": [],
   "source": [
    "loan_applications = pd.get_dummies(loan_applications, columns=loan_applications.select_dtypes(include=['category']).columns)\n",
    "previous_credits = pd.get_dummies(previous_credits, columns=previous_credits.select_dtypes(include=['category']).columns)\n",
    "credit_bureau_balance = pd.get_dummies(credit_bureau_balance, columns=credit_bureau_balance.select_dtypes(include=['category']).columns)\n",
    "previous_pos_cash_loans = pd.get_dummies(previous_pos_cash_loans, columns=previous_pos_cash_loans.select_dtypes(include=['category']).columns)\n",
    "previous_credit_cards = pd.get_dummies(previous_credit_cards, columns=previous_credit_cards.select_dtypes(include=['category']).columns)\n",
    "previous_loan_applications = pd.get_dummies(previous_loan_applications, columns=previous_loan_applications.select_dtypes(include=['category']).columns)\n",
    "repayment_history = pd.get_dummies(repayment_history, columns=repayment_history.select_dtypes(include=['category']).columns)"
   ]
  },
  {
   "cell_type": "code",
   "execution_count": 6,
   "metadata": {},
   "outputs": [
    {
     "data": {
      "text/plain": [
       "Index(['sk_id_bureau', 'months_balance', 'status_0', 'status_1', 'status_2',\n",
       "       'status_3', 'status_4', 'status_5', 'status_C', 'status_X'],\n",
       "      dtype='object')"
      ]
     },
     "execution_count": 6,
     "metadata": {},
     "output_type": "execute_result"
    }
   ],
   "source": [
    "credit_bureau_balance.columns"
   ]
  },
  {
   "cell_type": "markdown",
   "metadata": {},
   "source": [
    "## Groupby and Aggregation"
   ]
  },
  {
   "cell_type": "code",
   "execution_count": 7,
   "metadata": {},
   "outputs": [],
   "source": [
    "#Aggregation for previous_credit_cards\n",
    "# aggregations_prev_credit_cards = {\n",
    "\n",
    "#     'months_balance': 'max',\n",
    "#     'amt_balance': 'max',\n",
    "#     'amt_balance': 'sum',\n",
    "#     'amt_credit_limit_actual': 'max',\n",
    "#     'amt_payment_current': 'mean',\n",
    "#     'amt_inst_min_regularity': 'mean',\n",
    "#     'sk_dpd': 'max',\n",
    "#     'sk_dpd_def': 'max'\n",
    "# }\n",
    "# aggregations_prev_pos_cash_loans = {\n",
    "\n",
    "#     'months_balance': 'max',\n",
    "#     'cnt_instalment': 'mean',\n",
    "#     'cnt_instalment_future': 'sum',\n",
    "#     'sk_dpd': 'max',\n",
    "#     'sk_dpd_def': 'max',\n",
    "#     'name_contract_status_Active': 'sum', \n",
    "#     'name_contract_status_Amortized debt': 'sum',\n",
    "#     'name_contract_status_Approved': 'sum',\n",
    "#     'name_contract_status_Canceled': 'sum',\n",
    "#     'name_contract_status_Completed': 'sum',\n",
    "#     'name_contract_status_Demand': 'sum',\n",
    "#     'name_contract_status_Returned to the store': 'sum',\n",
    "#     'name_contract_status_Signed': 'sum',\n",
    "#     'name_contract_status_XNA': 'sum'\n",
    "# }\n",
    "# aggregations_repayment_history = {\n",
    "\n",
    "#     'num_instalment_version': 'nunique',\n",
    "#     'num_instalment_number': 'max',\n",
    "#     'days_instalment': ['min', 'max'],\n",
    "#     'days_entry_payment': ['min', 'max'],\n",
    "#     'amt_instalment': 'sum',\n",
    "#     'amt_payment': 'sum'\n",
    "# }\n",
    "aggregations_credit_bureau_balance = {\n",
    "    'sk_id_bureau' : 'first',\n",
    "     'months_balance': ['min', 'max'],\n",
    "     'status_0': 'last',\n",
    "     'status_1': 'last',\n",
    "     'status_2': 'last',\n",
    "     'status_3': 'last',\n",
    "     'status_4': 'last',\n",
    "     'status_5': 'last',\n",
    "    'status_C': 'last',\n",
    "     'status_X': 'last'\n",
    " }\n",
    "# previous_credit_cards = df_aggreg(previous_credit_cards,\"sk_id_curr\",aggregations_prev_credit_cards)\n",
    "\n",
    "# print(is_unique_key(previous_credit_cards,\"sk_id_curr\"))\n",
    "\n",
    "# previous_pos_cash_loans = df_aggreg(previous_pos_cash_loans,\"sk_id_curr\",aggregations_prev_pos_cash_loans)\n",
    "# print(is_unique_key(previous_pos_cash_loans,\"sk_id_curr\"))\n",
    "\n",
    "# repayment_history = df_aggreg(repayment_history,\"sk_id_curr\",aggregations_repayment_history)\n",
    "# print(is_unique_key(repayment_history,\"sk_id_curr\"))\n",
    "\n",
    "credit_bureau_balance = df_aggreg(credit_bureau_balance,'sk_id_bureau',aggregations_credit_bureau_balance)\n",
    "# print(is_unique_key(credit_bureau_balance,\"sk_id_curr\"))\n",
    "previous_credit_cards = df_aggreg2(previous_credit_cards,\"previous_credit_cards\")\n",
    "previous_pos_cash_loans = df_aggreg2(previous_pos_cash_loans,\"previous_pos_cash_loans\")\n",
    "previous_loan_applications = df_aggreg2(previous_loan_applications,\"previous_pos_cash_loans\")\n",
    "repayment_history = df_aggreg2(repayment_history,\"repayment_history\")\n",
    "previous_credits = previous_credits_aggreg(previous_credits)\n",
    "# credit_bureau_balance = credit_bureau_balance_aggreg(credit_bureau_balance)\n",
    "\n",
    "\n"
   ]
  },
  {
   "cell_type": "markdown",
   "metadata": {},
   "source": [
    "## Inplace merging"
   ]
  },
  {
   "cell_type": "code",
   "execution_count": 8,
   "metadata": {},
   "outputs": [
    {
     "name": "stdout",
     "output_type": "stream",
     "text": [
      "First merge done\n",
      "Second merge done\n",
      "Third merge done\n",
      "Section Two merge Done\n",
      "___________________________\n",
      "Merging inside Section 3 ...\n"
     ]
    },
    {
     "ename": "KeyError",
     "evalue": "'sk_id_bureau'",
     "output_type": "error",
     "traceback": [
      "\u001b[1;31m---------------------------------------------------------------------------\u001b[0m",
      "\u001b[1;31mKeyError\u001b[0m                                  Traceback (most recent call last)",
      "\u001b[1;32m~\\AppData\\Local\\Temp\\ipykernel_6656\\2255084520.py\u001b[0m in \u001b[0;36m?\u001b[1;34m()\u001b[0m\n\u001b[0;32m     14\u001b[0m \u001b[0mprint\u001b[0m\u001b[1;33m(\u001b[0m\u001b[1;34m'Section Two merge Done'\u001b[0m\u001b[1;33m)\u001b[0m\u001b[1;33m\u001b[0m\u001b[1;33m\u001b[0m\u001b[0m\n\u001b[0;32m     15\u001b[0m \u001b[0mprint\u001b[0m\u001b[1;33m(\u001b[0m\u001b[1;34m\"___________________________\"\u001b[0m\u001b[1;33m)\u001b[0m\u001b[1;33m\u001b[0m\u001b[1;33m\u001b[0m\u001b[0m\n\u001b[0;32m     16\u001b[0m \u001b[0mprint\u001b[0m\u001b[1;33m(\u001b[0m\u001b[1;34m\"Merging inside Section 3 ...\"\u001b[0m\u001b[1;33m)\u001b[0m\u001b[1;33m\u001b[0m\u001b[1;33m\u001b[0m\u001b[0m\n\u001b[0;32m     17\u001b[0m \u001b[1;33m\u001b[0m\u001b[0m\n\u001b[1;32m---> 18\u001b[1;33m \u001b[0msection3\u001b[0m \u001b[1;33m=\u001b[0m \u001b[0mpd\u001b[0m\u001b[1;33m.\u001b[0m\u001b[0mmerge\u001b[0m\u001b[1;33m(\u001b[0m\u001b[0mprevious_credits\u001b[0m\u001b[1;33m,\u001b[0m\u001b[0mcredit_bureau_balance\u001b[0m\u001b[1;33m,\u001b[0m\u001b[0mon\u001b[0m\u001b[1;33m=\u001b[0m\u001b[1;34m\"sk_id_bureau\"\u001b[0m\u001b[1;33m,\u001b[0m\u001b[0mhow\u001b[0m\u001b[1;33m=\u001b[0m\u001b[1;34m\"left\"\u001b[0m\u001b[1;33m)\u001b[0m\u001b[1;33m\u001b[0m\u001b[1;33m\u001b[0m\u001b[0m\n\u001b[0m\u001b[0;32m     19\u001b[0m \u001b[1;33m\u001b[0m\u001b[0m\n\u001b[0;32m     20\u001b[0m \u001b[0mprint\u001b[0m\u001b[1;33m(\u001b[0m\u001b[1;34m\"Fourth merge done\"\u001b[0m\u001b[1;33m)\u001b[0m\u001b[1;33m\u001b[0m\u001b[1;33m\u001b[0m\u001b[0m\n\u001b[0;32m     21\u001b[0m \u001b[1;33m\u001b[0m\u001b[0m\n",
      "\u001b[1;32mc:\\Users\\Student\\AppData\\Local\\Programs\\Python\\Python311\\Lib\\site-packages\\pandas\\core\\reshape\\merge.py\u001b[0m in \u001b[0;36m?\u001b[1;34m(left, right, how, on, left_on, right_on, left_index, right_index, sort, suffixes, copy, indicator, validate)\u001b[0m\n\u001b[0;32m    165\u001b[0m             \u001b[0mvalidate\u001b[0m\u001b[1;33m=\u001b[0m\u001b[0mvalidate\u001b[0m\u001b[1;33m,\u001b[0m\u001b[1;33m\u001b[0m\u001b[1;33m\u001b[0m\u001b[0m\n\u001b[0;32m    166\u001b[0m             \u001b[0mcopy\u001b[0m\u001b[1;33m=\u001b[0m\u001b[0mcopy\u001b[0m\u001b[1;33m,\u001b[0m\u001b[1;33m\u001b[0m\u001b[1;33m\u001b[0m\u001b[0m\n\u001b[0;32m    167\u001b[0m         )\n\u001b[0;32m    168\u001b[0m     \u001b[1;32melse\u001b[0m\u001b[1;33m:\u001b[0m\u001b[1;33m\u001b[0m\u001b[1;33m\u001b[0m\u001b[0m\n\u001b[1;32m--> 169\u001b[1;33m         op = _MergeOperation(\n\u001b[0m\u001b[0;32m    170\u001b[0m             \u001b[0mleft_df\u001b[0m\u001b[1;33m,\u001b[0m\u001b[1;33m\u001b[0m\u001b[1;33m\u001b[0m\u001b[0m\n\u001b[0;32m    171\u001b[0m             \u001b[0mright_df\u001b[0m\u001b[1;33m,\u001b[0m\u001b[1;33m\u001b[0m\u001b[1;33m\u001b[0m\u001b[0m\n\u001b[0;32m    172\u001b[0m             \u001b[0mhow\u001b[0m\u001b[1;33m=\u001b[0m\u001b[0mhow\u001b[0m\u001b[1;33m,\u001b[0m\u001b[1;33m\u001b[0m\u001b[1;33m\u001b[0m\u001b[0m\n",
      "\u001b[1;32mc:\\Users\\Student\\AppData\\Local\\Programs\\Python\\Python311\\Lib\\site-packages\\pandas\\core\\reshape\\merge.py\u001b[0m in \u001b[0;36m?\u001b[1;34m(self, left, right, how, on, left_on, right_on, left_index, right_index, sort, suffixes, indicator, validate)\u001b[0m\n\u001b[0;32m    787\u001b[0m             \u001b[0mself\u001b[0m\u001b[1;33m.\u001b[0m\u001b[0mright_join_keys\u001b[0m\u001b[1;33m,\u001b[0m\u001b[1;33m\u001b[0m\u001b[1;33m\u001b[0m\u001b[0m\n\u001b[0;32m    788\u001b[0m             \u001b[0mself\u001b[0m\u001b[1;33m.\u001b[0m\u001b[0mjoin_names\u001b[0m\u001b[1;33m,\u001b[0m\u001b[1;33m\u001b[0m\u001b[1;33m\u001b[0m\u001b[0m\n\u001b[0;32m    789\u001b[0m             \u001b[0mleft_drop\u001b[0m\u001b[1;33m,\u001b[0m\u001b[1;33m\u001b[0m\u001b[1;33m\u001b[0m\u001b[0m\n\u001b[0;32m    790\u001b[0m             \u001b[0mright_drop\u001b[0m\u001b[1;33m,\u001b[0m\u001b[1;33m\u001b[0m\u001b[1;33m\u001b[0m\u001b[0m\n\u001b[1;32m--> 791\u001b[1;33m         ) = self._get_merge_keys()\n\u001b[0m\u001b[0;32m    792\u001b[0m \u001b[1;33m\u001b[0m\u001b[0m\n\u001b[0;32m    793\u001b[0m         \u001b[1;32mif\u001b[0m \u001b[0mleft_drop\u001b[0m\u001b[1;33m:\u001b[0m\u001b[1;33m\u001b[0m\u001b[1;33m\u001b[0m\u001b[0m\n\u001b[0;32m    794\u001b[0m             \u001b[0mself\u001b[0m\u001b[1;33m.\u001b[0m\u001b[0mleft\u001b[0m \u001b[1;33m=\u001b[0m \u001b[0mself\u001b[0m\u001b[1;33m.\u001b[0m\u001b[0mleft\u001b[0m\u001b[1;33m.\u001b[0m\u001b[0m_drop_labels_or_levels\u001b[0m\u001b[1;33m(\u001b[0m\u001b[0mleft_drop\u001b[0m\u001b[1;33m)\u001b[0m\u001b[1;33m\u001b[0m\u001b[1;33m\u001b[0m\u001b[0m\n",
      "\u001b[1;32mc:\\Users\\Student\\AppData\\Local\\Programs\\Python\\Python311\\Lib\\site-packages\\pandas\\core\\reshape\\merge.py\u001b[0m in \u001b[0;36m?\u001b[1;34m(self)\u001b[0m\n\u001b[0;32m   1283\u001b[0m                     \u001b[1;32mif\u001b[0m \u001b[0mlk\u001b[0m \u001b[1;32mis\u001b[0m \u001b[1;32mnot\u001b[0m \u001b[1;32mNone\u001b[0m\u001b[1;33m:\u001b[0m\u001b[1;33m\u001b[0m\u001b[1;33m\u001b[0m\u001b[0m\n\u001b[0;32m   1284\u001b[0m                         \u001b[1;31m# Then we're either Hashable or a wrong-length arraylike,\u001b[0m\u001b[1;33m\u001b[0m\u001b[1;33m\u001b[0m\u001b[0m\n\u001b[0;32m   1285\u001b[0m                         \u001b[1;31m#  the latter of which will raise\u001b[0m\u001b[1;33m\u001b[0m\u001b[1;33m\u001b[0m\u001b[0m\n\u001b[0;32m   1286\u001b[0m                         \u001b[0mlk\u001b[0m \u001b[1;33m=\u001b[0m \u001b[0mcast\u001b[0m\u001b[1;33m(\u001b[0m\u001b[0mHashable\u001b[0m\u001b[1;33m,\u001b[0m \u001b[0mlk\u001b[0m\u001b[1;33m)\u001b[0m\u001b[1;33m\u001b[0m\u001b[1;33m\u001b[0m\u001b[0m\n\u001b[1;32m-> 1287\u001b[1;33m                         \u001b[0mleft_keys\u001b[0m\u001b[1;33m.\u001b[0m\u001b[0mappend\u001b[0m\u001b[1;33m(\u001b[0m\u001b[0mleft\u001b[0m\u001b[1;33m.\u001b[0m\u001b[0m_get_label_or_level_values\u001b[0m\u001b[1;33m(\u001b[0m\u001b[0mlk\u001b[0m\u001b[1;33m)\u001b[0m\u001b[1;33m)\u001b[0m\u001b[1;33m\u001b[0m\u001b[1;33m\u001b[0m\u001b[0m\n\u001b[0m\u001b[0;32m   1288\u001b[0m                         \u001b[0mjoin_names\u001b[0m\u001b[1;33m.\u001b[0m\u001b[0mappend\u001b[0m\u001b[1;33m(\u001b[0m\u001b[0mlk\u001b[0m\u001b[1;33m)\u001b[0m\u001b[1;33m\u001b[0m\u001b[1;33m\u001b[0m\u001b[0m\n\u001b[0;32m   1289\u001b[0m                     \u001b[1;32melse\u001b[0m\u001b[1;33m:\u001b[0m\u001b[1;33m\u001b[0m\u001b[1;33m\u001b[0m\u001b[0m\n\u001b[0;32m   1290\u001b[0m                         \u001b[1;31m# work-around for merge_asof(left_index=True)\u001b[0m\u001b[1;33m\u001b[0m\u001b[1;33m\u001b[0m\u001b[0m\n",
      "\u001b[1;32mc:\\Users\\Student\\AppData\\Local\\Programs\\Python\\Python311\\Lib\\site-packages\\pandas\\core\\generic.py\u001b[0m in \u001b[0;36m?\u001b[1;34m(self, key, axis)\u001b[0m\n\u001b[0;32m   1840\u001b[0m             \u001b[0mvalues\u001b[0m \u001b[1;33m=\u001b[0m \u001b[0mself\u001b[0m\u001b[1;33m.\u001b[0m\u001b[0mxs\u001b[0m\u001b[1;33m(\u001b[0m\u001b[0mkey\u001b[0m\u001b[1;33m,\u001b[0m \u001b[0maxis\u001b[0m\u001b[1;33m=\u001b[0m\u001b[0mother_axes\u001b[0m\u001b[1;33m[\u001b[0m\u001b[1;36m0\u001b[0m\u001b[1;33m]\u001b[0m\u001b[1;33m)\u001b[0m\u001b[1;33m.\u001b[0m\u001b[0m_values\u001b[0m\u001b[1;33m\u001b[0m\u001b[1;33m\u001b[0m\u001b[0m\n\u001b[0;32m   1841\u001b[0m         \u001b[1;32melif\u001b[0m \u001b[0mself\u001b[0m\u001b[1;33m.\u001b[0m\u001b[0m_is_level_reference\u001b[0m\u001b[1;33m(\u001b[0m\u001b[0mkey\u001b[0m\u001b[1;33m,\u001b[0m \u001b[0maxis\u001b[0m\u001b[1;33m=\u001b[0m\u001b[0maxis\u001b[0m\u001b[1;33m)\u001b[0m\u001b[1;33m:\u001b[0m\u001b[1;33m\u001b[0m\u001b[1;33m\u001b[0m\u001b[0m\n\u001b[0;32m   1842\u001b[0m             \u001b[0mvalues\u001b[0m \u001b[1;33m=\u001b[0m \u001b[0mself\u001b[0m\u001b[1;33m.\u001b[0m\u001b[0maxes\u001b[0m\u001b[1;33m[\u001b[0m\u001b[0maxis\u001b[0m\u001b[1;33m]\u001b[0m\u001b[1;33m.\u001b[0m\u001b[0mget_level_values\u001b[0m\u001b[1;33m(\u001b[0m\u001b[0mkey\u001b[0m\u001b[1;33m)\u001b[0m\u001b[1;33m.\u001b[0m\u001b[0m_values\u001b[0m\u001b[1;33m\u001b[0m\u001b[1;33m\u001b[0m\u001b[0m\n\u001b[0;32m   1843\u001b[0m         \u001b[1;32melse\u001b[0m\u001b[1;33m:\u001b[0m\u001b[1;33m\u001b[0m\u001b[1;33m\u001b[0m\u001b[0m\n\u001b[1;32m-> 1844\u001b[1;33m             \u001b[1;32mraise\u001b[0m \u001b[0mKeyError\u001b[0m\u001b[1;33m(\u001b[0m\u001b[0mkey\u001b[0m\u001b[1;33m)\u001b[0m\u001b[1;33m\u001b[0m\u001b[1;33m\u001b[0m\u001b[0m\n\u001b[0m\u001b[0;32m   1845\u001b[0m \u001b[1;33m\u001b[0m\u001b[0m\n\u001b[0;32m   1846\u001b[0m         \u001b[1;31m# Check for duplicates\u001b[0m\u001b[1;33m\u001b[0m\u001b[1;33m\u001b[0m\u001b[0m\n\u001b[0;32m   1847\u001b[0m         \u001b[1;32mif\u001b[0m \u001b[0mvalues\u001b[0m\u001b[1;33m.\u001b[0m\u001b[0mndim\u001b[0m \u001b[1;33m>\u001b[0m \u001b[1;36m1\u001b[0m\u001b[1;33m:\u001b[0m\u001b[1;33m\u001b[0m\u001b[1;33m\u001b[0m\u001b[0m\n",
      "\u001b[1;31mKeyError\u001b[0m: 'sk_id_bureau'"
     ]
    }
   ],
   "source": [
    "\n",
    "section2 = pd.merge( previous_loan_applications,previous_credit_cards ,on = \"sk_id_curr\",how = \"left\")\n",
    "\n",
    "print(\"First merge done\")\n",
    "\n",
    "section2 = pd.merge(section2,previous_pos_cash_loans ,on=\"sk_id_curr\",how=\"left\")\n",
    "\n",
    "print(\"Second merge done\")\n",
    "\n",
    "\n",
    "section2 = pd.merge(section2,repayment_history,on=\"sk_id_curr\",how='left')\n",
    "\n",
    "print(\"Third merge done\")\n",
    "\n",
    "print('Section Two merge Done')\n",
    "print(\"___________________________\")\n",
    "print(\"Merging inside Section 3 ...\")\n",
    "previous_credits.rename(columns={\"previous_credits_sk_id_bureau\" : \"sk_id_bureau\"})\n",
    "section3 = pd.merge(previous_credits,credit_bureau_balance,on=\"sk_id_bureau\",how=\"left\")\n",
    "\n",
    "print(\"Fourth merge done\")\n",
    "\n",
    "section3_2 = pd.merge(section2, section3, on=\"sk_id_curr\", how=\"left\")\n",
    "print(\"Fifth merge complete\")\n",
    "del section2\n",
    "del section3\n",
    "section1 = loan_applications\n",
    "\n",
    "full = pd.merge(section1, section3_2, on=\"sk_id_curr\", how=\"left\")\n",
    "\n",
    "print(\"Merge Complete\")\n"
   ]
  },
  {
   "cell_type": "code",
   "execution_count": null,
   "metadata": {},
   "outputs": [
    {
     "data": {
      "text/plain": [
       "array(['sk_id_curr', 'previous_pos_cash_loans_sk_id_prev_x',\n",
       "       'previous_pos_cash_loans_amt_annuity',\n",
       "       'previous_pos_cash_loans_amt_application',\n",
       "       'previous_pos_cash_loans_amt_credit',\n",
       "       'previous_pos_cash_loans_amt_down_payment',\n",
       "       'previous_pos_cash_loans_amt_goods_price',\n",
       "       'previous_pos_cash_loans_hour_appr_process_start',\n",
       "       'previous_pos_cash_loans_nflag_last_appl_in_day',\n",
       "       'previous_pos_cash_loans_rate_down_payment',\n",
       "       'previous_pos_cash_loans_rate_interest_primary',\n",
       "       'previous_pos_cash_loans_rate_interest_privileged',\n",
       "       'previous_pos_cash_loans_days_decision',\n",
       "       'previous_pos_cash_loans_sellerplace_area',\n",
       "       'previous_pos_cash_loans_cnt_payment',\n",
       "       'previous_pos_cash_loans_days_first_drawing',\n",
       "       'previous_pos_cash_loans_days_first_due',\n",
       "       'previous_pos_cash_loans_days_last_due_1st_version',\n",
       "       'previous_pos_cash_loans_days_last_due',\n",
       "       'previous_pos_cash_loans_days_termination',\n",
       "       'previous_pos_cash_loans_nflag_insured_on_approval',\n",
       "       'previous_pos_cash_loans_name_contract_type_Cash loans',\n",
       "       'previous_pos_cash_loans_name_contract_type_Consumer loans',\n",
       "       'previous_pos_cash_loans_name_contract_type_Revolving loans',\n",
       "       'previous_pos_cash_loans_name_contract_type_XNA',\n",
       "       'previous_pos_cash_loans_weekday_appr_process_start_FRIDAY',\n",
       "       'previous_pos_cash_loans_weekday_appr_process_start_MONDAY',\n",
       "       'previous_pos_cash_loans_weekday_appr_process_start_SATURDAY',\n",
       "       'previous_pos_cash_loans_weekday_appr_process_start_SUNDAY',\n",
       "       'previous_pos_cash_loans_weekday_appr_process_start_THURSDAY',\n",
       "       'previous_pos_cash_loans_weekday_appr_process_start_TUESDAY',\n",
       "       'previous_pos_cash_loans_weekday_appr_process_start_WEDNESDAY',\n",
       "       'previous_pos_cash_loans_flag_last_appl_per_contract_N',\n",
       "       'previous_pos_cash_loans_flag_last_appl_per_contract_Y',\n",
       "       'previous_pos_cash_loans_name_cash_loan_purpose_Building a house or an annex',\n",
       "       'previous_pos_cash_loans_name_cash_loan_purpose_Business development',\n",
       "       'previous_pos_cash_loans_name_cash_loan_purpose_Buying a garage',\n",
       "       'previous_pos_cash_loans_name_cash_loan_purpose_Buying a holiday home / land',\n",
       "       'previous_pos_cash_loans_name_cash_loan_purpose_Buying a home',\n",
       "       'previous_pos_cash_loans_name_cash_loan_purpose_Buying a new car',\n",
       "       'previous_pos_cash_loans_name_cash_loan_purpose_Buying a used car',\n",
       "       'previous_pos_cash_loans_name_cash_loan_purpose_Car repairs',\n",
       "       'previous_pos_cash_loans_name_cash_loan_purpose_Education',\n",
       "       'previous_pos_cash_loans_name_cash_loan_purpose_Everyday expenses',\n",
       "       'previous_pos_cash_loans_name_cash_loan_purpose_Furniture',\n",
       "       'previous_pos_cash_loans_name_cash_loan_purpose_Gasification / water supply',\n",
       "       'previous_pos_cash_loans_name_cash_loan_purpose_Hobby',\n",
       "       'previous_pos_cash_loans_name_cash_loan_purpose_Journey',\n",
       "       'previous_pos_cash_loans_name_cash_loan_purpose_Medicine',\n",
       "       'previous_pos_cash_loans_name_cash_loan_purpose_Money for a third person',\n",
       "       'previous_pos_cash_loans_name_cash_loan_purpose_Other',\n",
       "       'previous_pos_cash_loans_name_cash_loan_purpose_Payments on other loans',\n",
       "       'previous_pos_cash_loans_name_cash_loan_purpose_Purchase of electronic equipment',\n",
       "       'previous_pos_cash_loans_name_cash_loan_purpose_Refusal to name the goal',\n",
       "       'previous_pos_cash_loans_name_cash_loan_purpose_Repairs',\n",
       "       'previous_pos_cash_loans_name_cash_loan_purpose_Urgent needs',\n",
       "       'previous_pos_cash_loans_name_cash_loan_purpose_Wedding / gift / holiday',\n",
       "       'previous_pos_cash_loans_name_cash_loan_purpose_XAP',\n",
       "       'previous_pos_cash_loans_name_cash_loan_purpose_XNA',\n",
       "       'previous_pos_cash_loans_name_contract_status_Approved_x',\n",
       "       'previous_pos_cash_loans_name_contract_status_Canceled_x',\n",
       "       'previous_pos_cash_loans_name_contract_status_Refused',\n",
       "       'previous_pos_cash_loans_name_contract_status_Unused offer',\n",
       "       'previous_pos_cash_loans_name_payment_type_Cash through the bank',\n",
       "       'previous_pos_cash_loans_name_payment_type_Cashless from the account of the employer',\n",
       "       'previous_pos_cash_loans_name_payment_type_Non-cash from your account',\n",
       "       'previous_pos_cash_loans_name_payment_type_XNA',\n",
       "       'previous_pos_cash_loans_code_reject_reason_CLIENT',\n",
       "       'previous_pos_cash_loans_code_reject_reason_HC',\n",
       "       'previous_pos_cash_loans_code_reject_reason_LIMIT',\n",
       "       'previous_pos_cash_loans_code_reject_reason_SCO',\n",
       "       'previous_pos_cash_loans_code_reject_reason_SCOFR',\n",
       "       'previous_pos_cash_loans_code_reject_reason_SYSTEM',\n",
       "       'previous_pos_cash_loans_code_reject_reason_VERIF',\n",
       "       'previous_pos_cash_loans_code_reject_reason_XAP',\n",
       "       'previous_pos_cash_loans_code_reject_reason_XNA',\n",
       "       'previous_pos_cash_loans_name_type_suite_Children',\n",
       "       'previous_pos_cash_loans_name_type_suite_Family',\n",
       "       'previous_pos_cash_loans_name_type_suite_Group of people',\n",
       "       'previous_pos_cash_loans_name_type_suite_Other_A',\n",
       "       'previous_pos_cash_loans_name_type_suite_Other_B',\n",
       "       'previous_pos_cash_loans_name_type_suite_Spouse, partner',\n",
       "       'previous_pos_cash_loans_name_type_suite_Unaccompanied',\n",
       "       'previous_pos_cash_loans_name_client_type_New',\n",
       "       'previous_pos_cash_loans_name_client_type_Refreshed',\n",
       "       'previous_pos_cash_loans_name_client_type_Repeater',\n",
       "       'previous_pos_cash_loans_name_client_type_XNA',\n",
       "       'previous_pos_cash_loans_name_goods_category_Additional Service',\n",
       "       'previous_pos_cash_loans_name_goods_category_Animals',\n",
       "       'previous_pos_cash_loans_name_goods_category_Audio/Video',\n",
       "       'previous_pos_cash_loans_name_goods_category_Auto Accessories',\n",
       "       'previous_pos_cash_loans_name_goods_category_Clothing and Accessories',\n",
       "       'previous_pos_cash_loans_name_goods_category_Computers',\n",
       "       'previous_pos_cash_loans_name_goods_category_Construction Materials',\n",
       "       'previous_pos_cash_loans_name_goods_category_Consumer Electronics',\n",
       "       'previous_pos_cash_loans_name_goods_category_Direct Sales',\n",
       "       'previous_pos_cash_loans_name_goods_category_Education',\n",
       "       'previous_pos_cash_loans_name_goods_category_Fitness',\n",
       "       'previous_pos_cash_loans_name_goods_category_Furniture',\n",
       "       'previous_pos_cash_loans_name_goods_category_Gardening',\n",
       "       'previous_pos_cash_loans_name_goods_category_Homewares',\n",
       "       'previous_pos_cash_loans_name_goods_category_House Construction',\n",
       "       'previous_pos_cash_loans_name_goods_category_Insurance',\n",
       "       'previous_pos_cash_loans_name_goods_category_Jewelry',\n",
       "       'previous_pos_cash_loans_name_goods_category_Medical Supplies',\n",
       "       'previous_pos_cash_loans_name_goods_category_Medicine',\n",
       "       'previous_pos_cash_loans_name_goods_category_Mobile',\n",
       "       'previous_pos_cash_loans_name_goods_category_Office Appliances',\n",
       "       'previous_pos_cash_loans_name_goods_category_Other',\n",
       "       'previous_pos_cash_loans_name_goods_category_Photo / Cinema Equipment',\n",
       "       'previous_pos_cash_loans_name_goods_category_Sport and Leisure',\n",
       "       'previous_pos_cash_loans_name_goods_category_Tourism',\n",
       "       'previous_pos_cash_loans_name_goods_category_Vehicles',\n",
       "       'previous_pos_cash_loans_name_goods_category_Weapon',\n",
       "       'previous_pos_cash_loans_name_goods_category_XNA',\n",
       "       'previous_pos_cash_loans_name_portfolio_Cards',\n",
       "       'previous_pos_cash_loans_name_portfolio_Cars',\n",
       "       'previous_pos_cash_loans_name_portfolio_Cash',\n",
       "       'previous_pos_cash_loans_name_portfolio_POS',\n",
       "       'previous_pos_cash_loans_name_portfolio_XNA',\n",
       "       'previous_pos_cash_loans_name_product_type_XNA',\n",
       "       'previous_pos_cash_loans_name_product_type_walk-in',\n",
       "       'previous_pos_cash_loans_name_product_type_x-sell',\n",
       "       'previous_pos_cash_loans_channel_type_AP+ (Cash loan)',\n",
       "       'previous_pos_cash_loans_channel_type_Car dealer',\n",
       "       'previous_pos_cash_loans_channel_type_Channel of corporate sales',\n",
       "       'previous_pos_cash_loans_channel_type_Contact center',\n",
       "       'previous_pos_cash_loans_channel_type_Country-wide',\n",
       "       'previous_pos_cash_loans_channel_type_Credit and cash offices',\n",
       "       'previous_pos_cash_loans_channel_type_Regional / Local',\n",
       "       'previous_pos_cash_loans_channel_type_Stone',\n",
       "       'previous_pos_cash_loans_name_seller_industry_Auto technology',\n",
       "       'previous_pos_cash_loans_name_seller_industry_Clothing',\n",
       "       'previous_pos_cash_loans_name_seller_industry_Connectivity',\n",
       "       'previous_pos_cash_loans_name_seller_industry_Construction',\n",
       "       'previous_pos_cash_loans_name_seller_industry_Consumer electronics',\n",
       "       'previous_pos_cash_loans_name_seller_industry_Furniture',\n",
       "       'previous_pos_cash_loans_name_seller_industry_Industry',\n",
       "       'previous_pos_cash_loans_name_seller_industry_Jewelry',\n",
       "       'previous_pos_cash_loans_name_seller_industry_MLM partners',\n",
       "       'previous_pos_cash_loans_name_seller_industry_Tourism',\n",
       "       'previous_pos_cash_loans_name_seller_industry_XNA',\n",
       "       'previous_pos_cash_loans_name_yield_group_XNA',\n",
       "       'previous_pos_cash_loans_name_yield_group_high',\n",
       "       'previous_pos_cash_loans_name_yield_group_low_action',\n",
       "       'previous_pos_cash_loans_name_yield_group_low_normal',\n",
       "       'previous_pos_cash_loans_name_yield_group_middle',\n",
       "       'previous_pos_cash_loans_product_combination_Card Street',\n",
       "       'previous_pos_cash_loans_product_combination_Card X-Sell',\n",
       "       'previous_pos_cash_loans_product_combination_Cash',\n",
       "       'previous_pos_cash_loans_product_combination_Cash Street: high',\n",
       "       'previous_pos_cash_loans_product_combination_Cash Street: low',\n",
       "       'previous_pos_cash_loans_product_combination_Cash Street: middle',\n",
       "       'previous_pos_cash_loans_product_combination_Cash X-Sell: high',\n",
       "       'previous_pos_cash_loans_product_combination_Cash X-Sell: low',\n",
       "       'previous_pos_cash_loans_product_combination_Cash X-Sell: middle',\n",
       "       'previous_pos_cash_loans_product_combination_POS household with interest',\n",
       "       'previous_pos_cash_loans_product_combination_POS household without interest',\n",
       "       'previous_pos_cash_loans_product_combination_POS industry with interest',\n",
       "       'previous_pos_cash_loans_product_combination_POS industry without interest',\n",
       "       'previous_pos_cash_loans_product_combination_POS mobile with interest',\n",
       "       'previous_pos_cash_loans_product_combination_POS mobile without interest',\n",
       "       'previous_pos_cash_loans_product_combination_POS other with interest',\n",
       "       'previous_pos_cash_loans_product_combination_POS others without interest',\n",
       "       'previous_pos_cash_loans_sk_id_prev_y',\n",
       "       'previous_pos_cash_loans_months_balance',\n",
       "       'previous_pos_cash_loans_cnt_instalment',\n",
       "       'previous_pos_cash_loans_cnt_instalment_future',\n",
       "       'previous_pos_cash_loans_sk_dpd',\n",
       "       'previous_pos_cash_loans_sk_dpd_def',\n",
       "       'previous_pos_cash_loans_name_contract_status_Active',\n",
       "       'previous_pos_cash_loans_name_contract_status_Amortized debt',\n",
       "       'previous_pos_cash_loans_name_contract_status_Approved_y',\n",
       "       'previous_pos_cash_loans_name_contract_status_Canceled_y',\n",
       "       'previous_pos_cash_loans_name_contract_status_Completed',\n",
       "       'previous_pos_cash_loans_name_contract_status_Demand',\n",
       "       'previous_pos_cash_loans_name_contract_status_Returned to the store',\n",
       "       'previous_pos_cash_loans_name_contract_status_Signed',\n",
       "       'previous_pos_cash_loans_name_contract_status_XNA',\n",
       "       'repayment_history_sk_id_prev',\n",
       "       'repayment_history_num_instalment_version',\n",
       "       'repayment_history_num_instalment_number',\n",
       "       'repayment_history_days_instalment',\n",
       "       'repayment_history_days_entry_payment',\n",
       "       'repayment_history_amt_instalment',\n",
       "       'repayment_history_amt_payment',\n",
       "       'previous_credit_cards_sk_id_prev',\n",
       "       'previous_credit_cards_months_balance',\n",
       "       'previous_credit_cards_amt_balance',\n",
       "       'previous_credit_cards_amt_credit_limit_actual',\n",
       "       'previous_credit_cards_amt_drawings_atm_current',\n",
       "       'previous_credit_cards_amt_drawings_current',\n",
       "       'previous_credit_cards_amt_drawings_other_current',\n",
       "       'previous_credit_cards_amt_drawings_pos_current',\n",
       "       'previous_credit_cards_amt_inst_min_regularity',\n",
       "       'previous_credit_cards_amt_payment_current',\n",
       "       'previous_credit_cards_amt_payment_total_current',\n",
       "       'previous_credit_cards_amt_receivable_principal',\n",
       "       'previous_credit_cards_amt_recivable',\n",
       "       'previous_credit_cards_amt_total_receivable',\n",
       "       'previous_credit_cards_cnt_drawings_atm_current',\n",
       "       'previous_credit_cards_cnt_drawings_current',\n",
       "       'previous_credit_cards_cnt_drawings_other_current',\n",
       "       'previous_credit_cards_cnt_drawings_pos_current',\n",
       "       'previous_credit_cards_cnt_instalment_mature_cum',\n",
       "       'previous_credit_cards_sk_dpd', 'previous_credit_cards_sk_dpd_def',\n",
       "       'previous_credit_cards_name_contract_status_Active',\n",
       "       'previous_credit_cards_name_contract_status_Approved',\n",
       "       'previous_credit_cards_name_contract_status_Completed',\n",
       "       'previous_credit_cards_name_contract_status_Demand',\n",
       "       'previous_credit_cards_name_contract_status_Refused',\n",
       "       'previous_credit_cards_name_contract_status_Sent proposal',\n",
       "       'previous_credit_cards_name_contract_status_Signed'], dtype=object)"
      ]
     },
     "execution_count": 13,
     "metadata": {},
     "output_type": "execute_result"
    }
   ],
   "source": [
    "loan_applications.columns.values"
   ]
  },
  {
   "cell_type": "markdown",
   "metadata": {},
   "source": [
    "## Section 2"
   ]
  },
  {
   "cell_type": "code",
   "execution_count": null,
   "metadata": {},
   "outputs": [],
   "source": [
    "# section2 = pd.merge(previous_loan_applications,previous_credit_cards ,on = \"sk_id_curr\",how = \"left\")\n",
    "# loan_applications = loan_applications.merge(previous_loan_applications.reset_index(), how='left', on='sk_id_curr')\n",
    "\n",
    "# # print(\"First merge done\")\n",
    "\n",
    "# # section2 = pd.merge(section2,previous_pos_cash_loans ,on=\"sk_id_curr\",how=\"left\")\n",
    "\n",
    "# # print(\"Second merge done\")\n"
   ]
  }
 ],
 "metadata": {
  "kernelspec": {
   "display_name": "Python 3",
   "language": "python",
   "name": "python3"
  },
  "language_info": {
   "codemirror_mode": {
    "name": "ipython",
    "version": 3
   },
   "file_extension": ".py",
   "mimetype": "text/x-python",
   "name": "python",
   "nbconvert_exporter": "python",
   "pygments_lexer": "ipython3",
   "version": "3.11.5"
  }
 },
 "nbformat": 4,
 "nbformat_minor": 2
}
